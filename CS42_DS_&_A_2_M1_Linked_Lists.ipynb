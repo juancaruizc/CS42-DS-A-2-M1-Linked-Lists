{
  "nbformat": 4,
  "nbformat_minor": 0,
  "metadata": {
    "colab": {
      "name": " CS42: DS & A 2: M1: Linked Lists",
      "provenance": [],
      "include_colab_link": true
    },
    "kernelspec": {
      "name": "python3",
      "display_name": "Python 3"
    },
    "language_info": {
      "name": "python"
    }
  },
  "cells": [
    {
      "cell_type": "markdown",
      "metadata": {
        "id": "view-in-github",
        "colab_type": "text"
      },
      "source": [
        "<a href=\"https://colab.research.google.com/github/juancaruizc/CS42-DS-A-2-M1-Linked-Lists/blob/main/CS42_DS_%26_A_2_M1_Linked_Lists.ipynb\" target=\"_parent\"><img src=\"https://colab.research.google.com/assets/colab-badge.svg\" alt=\"Open In Colab\"/></a>"
      ]
    },
    {
      "cell_type": "markdown",
      "metadata": {
        "id": "UEP7ymgk2xqt"
      },
      "source": [
        "# Linked Lists\n",
        "\n",
        "**Attendance code: 5354**\n",
        "\n",
        "* How variables work, revisited\n",
        "* What is a Linked List?\n",
        "* Inserting values at the head of a list\n",
        "* Walking a linked list\n",
        "* Linked list performance characteristics\n"
      ]
    },
    {
      "cell_type": "code",
      "metadata": {
        "id": "HKiem_XT2umX",
        "colab": {
          "base_uri": "https://localhost:8080/"
        },
        "outputId": "df3e643b-9699-4ac3-a8f2-c5dc83fe72a5"
      },
      "source": [
        "def foo(x):  # x = a\n",
        "    x = \"a b c\"\n",
        "    x = x.split()\n",
        "    x[2] = 99\n",
        "\n",
        "a = [1,2,3]\n",
        "\n",
        "foo(a)\n",
        "\n",
        "print(a[2])"
      ],
      "execution_count": null,
      "outputs": [
        {
          "output_type": "stream",
          "text": [
            "3\n"
          ],
          "name": "stdout"
        }
      ]
    },
    {
      "cell_type": "code",
      "metadata": {
        "colab": {
          "base_uri": "https://localhost:8080/"
        },
        "id": "OWHBdGRz8IF5",
        "outputId": "994ccef9-c406-40d2-d374-eca8b3bfed5d"
      },
      "source": [
        "a = [1,4,3,2,5]\n",
        "\n",
        "c = a\n",
        "\n",
        "a = sorted(a)  # out-of-place\n",
        "\n",
        "# sorted the hard way\n",
        "#b = a.copy()\n",
        "#b.sort()\n",
        "\n",
        "#a.sort()  # in-place\n",
        "\n",
        "print(a)"
      ],
      "execution_count": null,
      "outputs": [
        {
          "output_type": "stream",
          "text": [
            "[1, 2, 3, 4, 5]\n"
          ],
          "name": "stdout"
        }
      ]
    },
    {
      "cell_type": "code",
      "metadata": {
        "colab": {
          "base_uri": "https://localhost:8080/"
        },
        "id": "p5nM-uupA0JX",
        "outputId": "7c56c7e6-965c-4e90-8e24-318a5f4126af"
      },
      "source": [
        "x = [3,2,1]\n",
        "\n",
        "y = x\n",
        "x.sort()\n",
        "#y = x\n",
        "\n",
        "print(y)\n",
        "print(x)"
      ],
      "execution_count": null,
      "outputs": [
        {
          "output_type": "stream",
          "text": [
            "[1, 2, 3]\n",
            "[1, 2, 3]\n"
          ],
          "name": "stdout"
        }
      ]
    },
    {
      "cell_type": "code",
      "metadata": {
        "id": "R3d4QEzfBWS7"
      },
      "source": [
        "class ListNode:\n",
        "    def __init__(self, value):\n",
        "        self.value = value\n",
        "        self.next = None\n",
        "\n",
        "\"\"\"\n",
        "head = ListNode(0)\n",
        "head.next = ListNode(1)\n",
        "head.next.next = ListNode(2)\n",
        "\"\"\"\n",
        "\n",
        "head = ListNode(0)\n",
        "a = ListNode(1)\n",
        "b = ListNode(2)\n",
        "\n",
        "head.next = a\n",
        "a.next = b\n"
      ],
      "execution_count": null,
      "outputs": []
    },
    {
      "cell_type": "code",
      "metadata": {
        "colab": {
          "base_uri": "https://localhost:8080/"
        },
        "id": "cSRXlsdaJFOv",
        "outputId": "a5bc7446-d3e5-419d-c6ec-ab97a528d953"
      },
      "source": [
        "class ListNode:\n",
        "    def __init__(self, value):\n",
        "        self.value = value\n",
        "        self.next = None\n",
        "\n",
        "def insert_before_head(first, new_node):\n",
        "    new_node.next = first\n",
        "    return new_node\n",
        "\n",
        "head = ListNode(0)\n",
        "\n",
        "head = insert_before_head(head, ListNode(1))\n",
        "head = insert_before_head(head, ListNode(2))\n",
        "head = insert_before_head(head, ListNode(3))\n",
        "head = insert_before_head(head, ListNode(4))\n",
        "head = insert_before_head(head, ListNode(5))\n",
        "\n",
        "print(head.value)\n",
        "print(head.next.value)\n",
        "print(head.next.next.value)\n",
        "\n",
        "\n",
        "\n",
        "\n"
      ],
      "execution_count": null,
      "outputs": [
        {
          "output_type": "stream",
          "text": [
            "5\n",
            "4\n",
            "3\n"
          ],
          "name": "stdout"
        }
      ]
    },
    {
      "cell_type": "code",
      "metadata": {
        "colab": {
          "base_uri": "https://localhost:8080/"
        },
        "id": "2SnKU-tCOAy4",
        "outputId": "52bc7545-32ef-4304-a1ed-371c95fca970"
      },
      "source": [
        "# Traversing a linked list of any length\n",
        "\n",
        "def print_list(n):  # n would be the head of the list\n",
        "    if n is None:\n",
        "        print(\"[empty]\")\n",
        "        return\n",
        "\n",
        "    while n is not None:\n",
        "        print(n.value)\n",
        "        n = n.next\n",
        "\n",
        "print_list(head)\n",
        "\n",
        "def find_in_list(n, value):\n",
        "\n",
        "    while n is not None:\n",
        "        if n.value == value:  # This node's value is the one we're looking for\n",
        "            return True\n",
        "\n",
        "        n = n.next\n",
        "\n",
        "    # If we got here, we didn't find it\n",
        "    return False\n",
        "\n",
        "print(find_in_list(head, 2))  # True\n",
        "print(find_in_list(head, 9))  # False"
      ],
      "execution_count": null,
      "outputs": [
        {
          "output_type": "stream",
          "text": [
            "[empty]\n",
            "False\n",
            "False\n"
          ],
          "name": "stdout"
        }
      ]
    },
    {
      "cell_type": "code",
      "metadata": {
        "colab": {
          "base_uri": "https://localhost:8080/"
        },
        "id": "672-zd86Rmcp",
        "outputId": "e8819a95-8b62-4e41-8956-d895bbda7893"
      },
      "source": [
        "def append_to_list(n, new_node):\n",
        "    # Handle special case of empty list\n",
        "    if n is None:\n",
        "        return new_node\n",
        "\n",
        "    old_head = n\n",
        "\n",
        "    # Walk to the end of the list (but not off it)\n",
        "    while n.next is not None:\n",
        "        n = n.next\n",
        "\n",
        "    # Connect the new node\n",
        "    n.next = new_node\n",
        "\n",
        "    return old_head\n",
        "\n",
        "\n",
        "head = None\n",
        "\n",
        "head = append_to_list(head, ListNode(0))\n",
        "head = append_to_list(head, ListNode(1))\n",
        "head = append_to_list(head, ListNode(2))\n",
        "head = append_to_list(head, ListNode(3))\n",
        "\n",
        "print_list(head)\n",
        "\n"
      ],
      "execution_count": null,
      "outputs": [
        {
          "output_type": "stream",
          "text": [
            "0\n",
            "1\n",
            "2\n",
            "3\n"
          ],
          "name": "stdout"
        }
      ]
    },
    {
      "cell_type": "code",
      "metadata": {
        "id": "kwqAyHkoU13a"
      },
      "source": [
        "class ListNode:\n",
        "    def __init__(self, value):\n",
        "        self.value = value\n",
        "        self.next = None\n",
        "\n",
        "class Linked List:\n",
        "    def __init__(self):\n",
        "        self.head = None\n",
        "\n",
        "    def __st"
      ],
      "execution_count": null,
      "outputs": []
    }
  ]
}